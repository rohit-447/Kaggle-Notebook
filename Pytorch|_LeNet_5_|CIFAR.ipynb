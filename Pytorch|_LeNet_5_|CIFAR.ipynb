{
  "metadata": {
    "kernelspec": {
      "language": "python",
      "display_name": "Python 3",
      "name": "python3"
    },
    "language_info": {
      "name": "python",
      "version": "3.11.13",
      "mimetype": "text/x-python",
      "codemirror_mode": {
        "name": "ipython",
        "version": 3
      },
      "pygments_lexer": "ipython3",
      "nbconvert_exporter": "python",
      "file_extension": ".py"
    },
    "kaggle": {
      "accelerator": "none",
      "dataSources": [
        {
          "sourceId": 1782442,
          "sourceType": "datasetVersion",
          "datasetId": 1059701
        }
      ],
      "dockerImageVersionId": 31089,
      "isInternetEnabled": true,
      "language": "python",
      "sourceType": "notebook",
      "isGpuEnabled": false
    },
    "colab": {
      "name": "Pytorch| LeNet-5 |CIFAR",
      "provenance": [],
      "include_colab_link": true
    }
  },
  "nbformat_minor": 0,
  "nbformat": 4,
  "cells": [
    {
      "cell_type": "markdown",
      "metadata": {
        "id": "view-in-github",
        "colab_type": "text"
      },
      "source": [
        "<a href=\"https://colab.research.google.com/github/rohit-447/Kaggle-Notebook/blob/main/Pytorch%7C_LeNet_5_%7CCIFAR.ipynb\" target=\"_parent\"><img src=\"https://colab.research.google.com/assets/colab-badge.svg\" alt=\"Open In Colab\"/></a>"
      ]
    },
    {
      "source": [
        "# IMPORTANT: RUN THIS CELL IN ORDER TO IMPORT YOUR KAGGLE DATA SOURCES,\n",
        "# THEN FEEL FREE TO DELETE THIS CELL.\n",
        "# NOTE: THIS NOTEBOOK ENVIRONMENT DIFFERS FROM KAGGLE'S PYTHON\n",
        "# ENVIRONMENT SO THERE MAY BE MISSING LIBRARIES USED BY YOUR\n",
        "# NOTEBOOK.\n",
        "import kagglehub\n",
        "fedesoriano_cifar100_path = kagglehub.dataset_download('fedesoriano/cifar100')\n",
        "\n",
        "print('Data source import complete.')\n"
      ],
      "metadata": {
        "id": "4cKp6viYbHIF"
      },
      "cell_type": "code",
      "outputs": [],
      "execution_count": null
    },
    {
      "cell_type": "code",
      "source": [
        "# This Python 3 environment comes with many helpful analytics libraries installed\n",
        "# It is defined by the kaggle/python Docker image: https://github.com/kaggle/docker-python\n",
        "# For example, here's several helpful packages to load\n",
        "\n",
        "import numpy as np # linear algebra\n",
        "import pandas as pd # data processing, CSV file I/O (e.g. pd.read_csv)\n",
        "\n",
        "# Input data files are available in the read-only \"../input/\" directory\n",
        "# For example, running this (by clicking run or pressing Shift+Enter) will list all files under the input directory\n",
        "\n",
        "import os\n",
        "for dirname, _, filenames in os.walk('/kaggle/input'):\n",
        "    for filename in filenames:\n",
        "        print(os.path.join(dirname, filename))\n",
        "\n",
        "# You can write up to 20GB to the current directory (/kaggle/working/) that gets preserved as output when you create a version using \"Save & Run All\"\n",
        "# You can also write temporary files to /kaggle/temp/, but they won't be saved outside of the current session"
      ],
      "metadata": {
        "_uuid": "8f2839f25d086af736a60e9eeb907d3b93b6e0e5",
        "_cell_guid": "b1076dfc-b9ad-4769-8c92-a6c4dae69d19",
        "trusted": true,
        "id": "_NoMgjfFbHIJ"
      },
      "outputs": [],
      "execution_count": null
    },
    {
      "cell_type": "code",
      "source": [
        "import torch\n",
        "import torchvision\n",
        "import matplotlib.pyplot as plt\n",
        "from torchvision.datasets import CIFAR10\n",
        "torch.__version__,torchvision.__version__"
      ],
      "metadata": {
        "trusted": true,
        "execution": {
          "iopub.status.busy": "2025-08-18T16:54:55.466597Z",
          "iopub.execute_input": "2025-08-18T16:54:55.466851Z",
          "iopub.status.idle": "2025-08-18T16:54:55.472928Z",
          "shell.execute_reply.started": "2025-08-18T16:54:55.466829Z",
          "shell.execute_reply": "2025-08-18T16:54:55.472046Z"
        },
        "id": "ZQtAYXcebHIK"
      },
      "outputs": [],
      "execution_count": null
    },
    {
      "cell_type": "markdown",
      "source": [
        "This Code downloads the dataset in the kaggle working directory in datafolder"
      ],
      "metadata": {
        "id": "qhRygoUfbHIL"
      }
    },
    {
      "cell_type": "code",
      "source": [
        "cifar10= CIFAR10(root='data', download=True)"
      ],
      "metadata": {
        "trusted": true,
        "execution": {
          "iopub.status.busy": "2025-08-18T16:54:56.311235Z",
          "iopub.execute_input": "2025-08-18T16:54:56.311542Z",
          "iopub.status.idle": "2025-08-18T16:55:01.083214Z",
          "shell.execute_reply.started": "2025-08-18T16:54:56.31152Z",
          "shell.execute_reply": "2025-08-18T16:55:01.082278Z"
        },
        "id": "_XIE4i7nbHIM"
      },
      "outputs": [],
      "execution_count": null
    },
    {
      "cell_type": "markdown",
      "source": [
        "Device Agnoistic Code"
      ],
      "metadata": {
        "id": "t7B6kHUobHIN"
      }
    },
    {
      "cell_type": "code",
      "source": [
        "\n",
        "device= \"cuda\" if torch.cuda.is_available() else \"cpu\"\n",
        "device"
      ],
      "metadata": {
        "trusted": true,
        "execution": {
          "iopub.status.busy": "2025-08-18T16:48:28.694298Z",
          "iopub.execute_input": "2025-08-18T16:48:28.695007Z",
          "iopub.status.idle": "2025-08-18T16:48:28.700899Z",
          "shell.execute_reply.started": "2025-08-18T16:48:28.694976Z",
          "shell.execute_reply": "2025-08-18T16:48:28.700051Z"
        },
        "id": "jSVkgh2NbHIN"
      },
      "outputs": [],
      "execution_count": null
    },
    {
      "cell_type": "markdown",
      "source": [
        "# Import and Download of the CIFAR10 dataset\n",
        "\n",
        "1. **train_data**: Folder that contains the train datset\n",
        "2. **test_data**: Folder that contains the test datset\n"
      ],
      "metadata": {
        "id": "QCsePGorbHIO"
      }
    },
    {
      "cell_type": "code",
      "source": [
        "from torchvision.datasets import CIFAR10\n",
        "train_data=torchvision.datasets.CIFAR10(root='./data', train=True, download=True, transform=ToTensor(), target_transform=None)\n",
        "test_data=torchvision.datasets.CIFAR10(root='./data', train=False, download=True, transform=ToTensor(), target_transform=None)"
      ],
      "metadata": {
        "trusted": true,
        "execution": {
          "iopub.status.busy": "2025-08-18T17:22:30.344136Z",
          "iopub.execute_input": "2025-08-18T17:22:30.345137Z",
          "iopub.status.idle": "2025-08-18T17:22:32.154648Z",
          "shell.execute_reply.started": "2025-08-18T17:22:30.345096Z",
          "shell.execute_reply": "2025-08-18T17:22:32.153529Z"
        },
        "id": "ttf4ief8bHIP"
      },
      "outputs": [],
      "execution_count": null
    },
    {
      "cell_type": "markdown",
      "source": [
        "# Getting the Class Name"
      ],
      "metadata": {
        "id": "wuV4W5rabHIP"
      }
    },
    {
      "cell_type": "code",
      "source": [
        "#class name as a list\n",
        "class_name=train_data.classes\n",
        "\n",
        "#class name as dict\n",
        "class_name_dict=train_data.class_to_idx\n",
        "\n",
        "class_name, class_name_dict"
      ],
      "metadata": {
        "trusted": true,
        "execution": {
          "iopub.status.busy": "2025-08-18T17:26:23.364397Z",
          "iopub.execute_input": "2025-08-18T17:26:23.364772Z",
          "iopub.status.idle": "2025-08-18T17:26:23.37147Z",
          "shell.execute_reply.started": "2025-08-18T17:26:23.364747Z",
          "shell.execute_reply": "2025-08-18T17:26:23.370592Z"
        },
        "id": "AuLd7AfjbHIP"
      },
      "outputs": [],
      "execution_count": null
    },
    {
      "cell_type": "markdown",
      "source": [
        "# Visualizing an image\n",
        "\n",
        "Access the first image and label in train_data.\n",
        "\n",
        "Since the image is represented as a tensor with shape: torch.Size([3, 32, 32]) (i.e., (C, H, W) where C stands for channels, H for height, and W for width), you need to adjust it because matplotlib expects images in the format (H, W, C) — a NumPy array with shape (height, width, channels).\n",
        "\n",
        "To achieve this, you’ll need to transpose the image from (C, H, W) to (H, W, C) before displaying it using matplotlib.pyplot.imshow."
      ],
      "metadata": {
        "id": "MiaHiB1GbHIP"
      }
    },
    {
      "cell_type": "code",
      "source": [
        "#Visualizing an image\n",
        "image, label=train_data[0]\n",
        "plt.figure(figsize=(1,1))\n",
        "plt.imshow(image.permute(1,2,0))\n",
        "plt.title(class_name[label])\n",
        "plt.axis(False)"
      ],
      "metadata": {
        "trusted": true,
        "execution": {
          "iopub.status.busy": "2025-08-18T17:33:55.385557Z",
          "iopub.execute_input": "2025-08-18T17:33:55.385967Z",
          "iopub.status.idle": "2025-08-18T17:33:55.45094Z",
          "shell.execute_reply.started": "2025-08-18T17:33:55.385942Z",
          "shell.execute_reply": "2025-08-18T17:33:55.450214Z"
        },
        "id": "6vC0ZaZ3bHIQ"
      },
      "outputs": [],
      "execution_count": null
    },
    {
      "cell_type": "markdown",
      "source": [
        "# Loading the datset using the DataLoader Function"
      ],
      "metadata": {
        "id": "0OwqGWMubHIQ"
      }
    },
    {
      "cell_type": "code",
      "source": [
        "from torch.utils.data import DataLoader\n",
        "BATCH_SIZE=32\n",
        "\n",
        "train_dataloader = DataLoader(train_data, batch_size=BATCH_SIZE, shuffle=True)\n",
        "test_dataloader  = DataLoader(test_data, batch_size=BATCH_SIZE, shuffle=True)"
      ],
      "metadata": {
        "trusted": true,
        "execution": {
          "iopub.status.busy": "2025-08-18T17:44:51.891254Z",
          "iopub.execute_input": "2025-08-18T17:44:51.891569Z",
          "iopub.status.idle": "2025-08-18T17:44:51.897115Z",
          "shell.execute_reply.started": "2025-08-18T17:44:51.891544Z",
          "shell.execute_reply": "2025-08-18T17:44:51.896288Z"
        },
        "id": "Fk-tuYNdbHIQ"
      },
      "outputs": [],
      "execution_count": null
    },
    {
      "cell_type": "code",
      "source": [
        "#visulisation of all the images of a batch\n",
        "torch.manual_seed(42)\n",
        "train_featues_batch, test_feature_batch= next(iter(train_dataloader))\n",
        "fig=plt.figure(figsize=(7,7))\n",
        "rows=4\n",
        "cols=8\n",
        "for i in range(BATCH_SIZE):\n",
        "    img, label= train_featues_batch[i], test_feature_batch[i]\n",
        "    fig.add_subplot(rows, cols, i + 1)\n",
        "    plt.imshow(img.permute(1,2,0))\n",
        "    plt.axis(False)"
      ],
      "metadata": {
        "trusted": true,
        "execution": {
          "iopub.status.busy": "2025-08-18T17:57:51.885762Z",
          "iopub.execute_input": "2025-08-18T17:57:51.886064Z",
          "iopub.status.idle": "2025-08-18T17:57:52.851814Z",
          "shell.execute_reply.started": "2025-08-18T17:57:51.886044Z",
          "shell.execute_reply": "2025-08-18T17:57:52.850829Z"
        },
        "id": "q7q0epfibHIQ"
      },
      "outputs": [],
      "execution_count": null
    },
    {
      "cell_type": "code",
      "source": [
        "from torch import nn\n",
        "class LeNet-5(nn.Module):\n",
        "    def __init__(self):\n",
        "        super().__init__()"
      ],
      "metadata": {
        "trusted": true,
        "execution": {
          "iopub.status.busy": "2025-08-18T17:36:57.129254Z",
          "iopub.execute_input": "2025-08-18T17:36:57.129558Z",
          "iopub.status.idle": "2025-08-18T17:36:57.135555Z",
          "shell.execute_reply.started": "2025-08-18T17:36:57.129534Z",
          "shell.execute_reply": "2025-08-18T17:36:57.134664Z"
        },
        "id": "ycFOu_iTbHIR"
      },
      "outputs": [],
      "execution_count": null
    }
  ]
}